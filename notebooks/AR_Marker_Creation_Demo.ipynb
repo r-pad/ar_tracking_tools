{
 "cells": [
  {
   "cell_type": "markdown",
   "metadata": {},
   "source": [
    "# Making Marker Grids"
   ]
  },
  {
   "cell_type": "code",
   "execution_count": 1,
   "metadata": {},
   "outputs": [],
   "source": [
    "#%matplotlib inline\n",
    "\n",
    "import numpy as np\n",
    "\n",
    "from ar_tracking_tools.bundle_pdf_utils import makeBundlePdf, IN2CM\n",
    "from ar_tracking_tools.bundle_xml_utils import makeBundleXml\n",
    "from ar_tracking_tools.marker_utils import makeMarkerGrid, makeMultiResolutionGrid\n",
    "\n",
    "#from IPython.display import IFrame\n",
    "#import matplotlib.pyplot as plt\n",
    "#import pylab\n",
    "#pylab.rcParams['figure.figsize'] = 20, 12"
   ]
  },
  {
   "cell_type": "markdown",
   "metadata": {},
   "source": [
    "## Creating a simple grid "
   ]
  },
  {
   "cell_type": "markdown",
   "metadata": {},
   "source": [
    "### Set the physical dimensions of your grid in cm"
   ]
  },
  {
   "cell_type": "code",
   "execution_count": 2,
   "metadata": {},
   "outputs": [],
   "source": [
    "height = 20.\n",
    "width  = 20."
   ]
  },
  {
   "cell_type": "markdown",
   "metadata": {},
   "source": [
    "### Set how much boarder margin you want around the physical dimension in cm"
   ]
  },
  {
   "cell_type": "code",
   "execution_count": 3,
   "metadata": {},
   "outputs": [],
   "source": [
    "margin = 2"
   ]
  },
  {
   "cell_type": "markdown",
   "metadata": {},
   "source": [
    "### Set how wide you want your AR Tags in cm"
   ]
  },
  {
   "cell_type": "code",
   "execution_count": 4,
   "metadata": {},
   "outputs": [],
   "source": [
    "marker_size = 7"
   ]
  },
  {
   "cell_type": "markdown",
   "metadata": {},
   "source": [
    "### Set how many rows and columns of tags you want"
   ]
  },
  {
   "cell_type": "code",
   "execution_count": 5,
   "metadata": {},
   "outputs": [],
   "source": [
    "rows = 2\n",
    "cols = 2"
   ]
  },
  {
   "cell_type": "markdown",
   "metadata": {},
   "source": [
    "### Generate the marker center points"
   ]
  },
  {
   "cell_type": "code",
   "execution_count": 6,
   "metadata": {},
   "outputs": [],
   "source": [
    "pts = makeMarkerGrid(rows, cols, marker_size, margin = margin, width = width, height=height)"
   ]
  },
  {
   "cell_type": "markdown",
   "metadata": {},
   "source": [
    "### Set the index of the first AR Tag"
   ]
  },
  {
   "cell_type": "code",
   "execution_count": 7,
   "metadata": {},
   "outputs": [],
   "source": [
    "start_tag_index = 70"
   ]
  },
  {
   "cell_type": "markdown",
   "metadata": {},
   "source": [
    "### Set the text size, in cm, for the annotations. Set to None if you don't want annotations"
   ]
  },
  {
   "cell_type": "code",
   "execution_count": 8,
   "metadata": {},
   "outputs": [],
   "source": [
    "text_size = .35"
   ]
  },
  {
   "cell_type": "markdown",
   "metadata": {},
   "source": [
    "### Set the paper size in cm\n",
    "If it is not set, then it prints to a single sheet of the required size. \n",
    "\n",
    "If more than one sheet is required, it automatically tiles with overlap and alignment markers."
   ]
  },
  {
   "cell_type": "code",
   "execution_count": 9,
   "metadata": {},
   "outputs": [],
   "source": [
    "paper_size = (8.5*IN2CM, 11*IN2CM)"
   ]
  },
  {
   "cell_type": "markdown",
   "metadata": {},
   "source": [
    "### Create and save the marker pdf (pdf visualization only works in Firefox)"
   ]
  },
  {
   "cell_type": "code",
   "execution_count": 10,
   "metadata": {
    "scrolled": true
   },
   "outputs": [
    {
     "data": {
      "text/plain": [
       "''"
      ]
     },
     "execution_count": 10,
     "metadata": {},
     "output_type": "execute_result"
    }
   ],
   "source": [
    "pdf = makeBundlePdf([pts], marker_size=marker_size, \n",
    "                    start_index = start_tag_index,\n",
    "                    paper_size = paper_size,\n",
    "                    text_size = text_size)\n",
    "pdf.output('example_bundles/simple_grid.pdf', 'F')\n",
    "\n",
    "IFrame('example_bundles/simple_grid.pdf', width=600, height=300)"
   ]
  },
  {
   "cell_type": "markdown",
   "metadata": {},
   "source": [
    "### Create and save the bundle xml file"
   ]
  },
  {
   "cell_type": "code",
   "execution_count": 11,
   "metadata": {},
   "outputs": [],
   "source": [
    "xml_str = makeBundleXml([pts], marker_size=marker_size, start_index = start_tag_index)\n",
    "with open('example_bundles/simple_grid.xml', 'w') as f:\n",
    "    f.write(xml_str)"
   ]
  },
  {
   "cell_type": "markdown",
   "metadata": {},
   "source": [
    "## Multi-Resolution Marker Bundles"
   ]
  },
  {
   "cell_type": "markdown",
   "metadata": {},
   "source": [
    "### Set the physical width of the grid in cm"
   ]
  },
  {
   "cell_type": "code",
   "execution_count": 12,
   "metadata": {},
   "outputs": [],
   "source": [
    "mrg_width = 18"
   ]
  },
  {
   "cell_type": "markdown",
   "metadata": {},
   "source": [
    "### Set how much space you want between the tags"
   ]
  },
  {
   "cell_type": "code",
   "execution_count": 13,
   "metadata": {},
   "outputs": [],
   "source": [
    "spacing = 1"
   ]
  },
  {
   "cell_type": "markdown",
   "metadata": {},
   "source": [
    "### Set how many columns you want in the upper left quadrant and the upper right quadrant"
   ]
  },
  {
   "cell_type": "code",
   "execution_count": 14,
   "metadata": {},
   "outputs": [],
   "source": [
    "cols_ul = 1\n",
    "cols_ur = 2"
   ]
  },
  {
   "cell_type": "markdown",
   "metadata": {},
   "source": [
    "### Generate and save the target pdf and xml\n",
    "The multi-resolutions bundles will have larger margins as half the largest tag width is added to the closest point. To compensate, you can set a negative printing margin. This margins is only used for ploting, and does not effect the tag coordinates."
   ]
  },
  {
   "cell_type": "code",
   "execution_count": 15,
   "metadata": {},
   "outputs": [],
   "source": [
    "mrg_pts, mrg_sizes = makeMultiResolutionGrid(mrg_width, spacing = spacing, \n",
    "                                             cols_ul=cols_ul, cols_ur=cols_ur)\n",
    "start_tag_index = 30\n",
    "pdf = makeBundlePdf([mrg_pts], marker_size=mrg_sizes,\n",
    "                    margin = -1,\n",
    "                    start_index = start_tag_index, \n",
    "                    text_size = .15,\n",
    "                    paper_size = paper_size,)\n",
    "xml_str = makeBundleXml([mrg_pts], \n",
    "                        start_index = start_tag_index,\n",
    "                        marker_size=mrg_sizes)\n",
    "\n",
    "pdf.output('example_bundles/mrg_bundle.pdf', 'F')\n",
    "with open('example_bundles/mrg_bundle.xml', 'w') as f:\n",
    "    f.write(xml_str)\n",
    "    \n",
    "IFrame('example_bundles/mrg_bundle.pdf', width=600, height=300)"
   ]
  },
  {
   "cell_type": "markdown",
   "metadata": {},
   "source": [
    "## 3D Marker Bundles"
   ]
  },
  {
   "cell_type": "markdown",
   "metadata": {},
   "source": [
    "### Drawer Marker Bundle (defining points in 3D)"
   ]
  },
  {
   "cell_type": "code",
   "execution_count": 16,
   "metadata": {},
   "outputs": [],
   "source": [
    "marker_size = 7\n",
    "margin = 2\n",
    "height = 36.5\n",
    "width  = 76.5\n",
    "depth  = 20\n",
    "\n",
    "top_pts = makeMarkerGrid(3,6, marker_size, margin, corner=(0,0,0), width = width, height=height)\n",
    "left_pts = makeMarkerGrid(2,3, marker_size, margin, corner=(0,0,0), height=height, depth=depth)\n",
    "right_pts = makeMarkerGrid(2,3, marker_size, margin, corner=(width,0,0), height=height, depth=depth)\n",
    "\n",
    "point_sets = [top_pts, left_pts, right_pts]\n",
    "\n",
    "pdf = makeBundlePdf(point_sets, marker_size=marker_size, start_index = 0, text_size = .35)\n",
    "xml_str = makeBundleXml(point_sets, marker_size=marker_size, start_index = 0)\n",
    "\n",
    "pdf.output('example_bundles/drawer_bundle.pdf', 'F')\n",
    "with open('example_bundles/drawer_bundle.xml', 'w') as f:\n",
    "    f.write(xml_str)"
   ]
  },
  {
   "cell_type": "markdown",
   "metadata": {},
   "source": [
    "### Bag Marker Bundle (points in 2D and then folding)"
   ]
  },
  {
   "cell_type": "code",
   "execution_count": 17,
   "metadata": {},
   "outputs": [],
   "source": [
    "from ar_tracking_tools.geometry_utils import foldPoints\n",
    "\n",
    "mrg_width = 18\n",
    "spacing = 1\n",
    "cols_ul = 1\n",
    "cols_ur = 2\n",
    "bag_width = 25.5\n",
    "edge_margin = (bag_width-mrg_width)/2.\n",
    "\n",
    "mrg_pts, mrg_sizes = makeMultiResolutionGrid(mrg_width, spacing = spacing, \n",
    "                                             cols_ul = cols_ul, cols_ur = cols_ur)\n",
    "\n",
    "top_mrg_pts = mrg_pts + np.array([edge_margin, -edge_margin, 0])\n",
    "\n",
    "back_mrg_pts = mrg_pts + np.array([edge_margin, bag_width - edge_margin, 0])\n",
    "back_edge = ((0,0,0), (bag_width,0,0), 90*np.pi/180.)\n",
    "back_mrg_pts = foldPoints(back_mrg_pts, back_edge, reverse=True)\n",
    "\n",
    "left_mrg_pts = mrg_pts + np.array([-bag_width + edge_margin, -edge_margin, 0])\n",
    "left_edge = ((0,0,0), (0,-mrg_width,0), -90*np.pi/180.)\n",
    "left_mrg_pts = foldPoints(left_mrg_pts, left_edge, reverse=True)\n",
    "\n",
    "right_mrg_pts = mrg_pts + np.array([bag_width + edge_margin, -edge_margin, 0])\n",
    "right_edge = ((bag_width,0,0), (bag_width,-mrg_width,0), 90*np.pi/180.)\n",
    "right_mrg_pts = foldPoints(right_mrg_pts, right_edge, reverse=True)\n",
    "\n",
    "point_sets = [top_mrg_pts, back_mrg_pts, left_mrg_pts, right_mrg_pts]\n",
    "edges = [None, back_edge, left_edge, right_edge]\n",
    "marker_sizes = np.concatenate([mrg_sizes, mrg_sizes, mrg_sizes, mrg_sizes])\n",
    "\n",
    "pdf = makeBundlePdf(point_sets, marker_size=marker_sizes, start_index = 30, text_size = .15)\n",
    "xml_str = makeBundleXml(point_sets, marker_size=marker_sizes, start_index = 30)\n",
    "\n",
    "pdf.output('example_bundles/bag_bundle.pdf', 'F')\n",
    "with open('example_bundles/bag_bundle.xml', 'w') as f:\n",
    "    f.write(xml_str)"
   ]
  },
  {
   "cell_type": "markdown",
   "metadata": {},
   "source": [
    "### If you want to check your XML, you can visualize the markers in 3D\n",
    "Corners are colored in ordered red, blue, green, yellow"
   ]
  },
  {
   "cell_type": "code",
   "execution_count": 18,
   "metadata": {},
   "outputs": [],
   "source": [
    "%matplotlib notebook\n",
    "from ar_tracking_tools.bundle_visualization_utils import visualizeBundleXML\n",
    "\n",
    "ax = visualizeBundleXML('example_bundles/bag_bundle.xml')"
   ]
  },
  {
   "cell_type": "code",
   "execution_count": null,
   "metadata": {},
   "outputs": [],
   "source": []
  }
 ],
 "metadata": {
  "kernelspec": {
   "display_name": "Python 2",
   "language": "python",
   "name": "python2"
  },
  "language_info": {
   "codemirror_mode": {
    "name": "ipython",
    "version": 2
   },
   "file_extension": ".py",
   "mimetype": "text/x-python",
   "name": "python",
   "nbconvert_exporter": "python",
   "pygments_lexer": "ipython2",
   "version": "2.7.12"
  }
 },
 "nbformat": 4,
 "nbformat_minor": 2
}
